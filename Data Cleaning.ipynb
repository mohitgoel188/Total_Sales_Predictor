{
 "cells": [
  {
   "cell_type": "markdown",
   "metadata": {},
   "source": [
    "# Imports"
   ]
  },
  {
   "cell_type": "code",
   "execution_count": 1,
   "metadata": {},
   "outputs": [],
   "source": [
    "import matplotlib.pyplot as plt\n",
    "from beakerx import *\n",
    "import pandas as pd\n",
    "import numpy as np\n",
    "%matplotlib inline"
   ]
  },
  {
   "cell_type": "markdown",
   "metadata": {},
   "source": [
    "# Data Analysis"
   ]
  },
  {
   "cell_type": "code",
   "execution_count": 2,
   "metadata": {},
   "outputs": [],
   "source": [
    "train=pd.read_csv('train.csv')\n",
    "test=pd.read_csv('test.csv')"
   ]
  },
  {
   "cell_type": "code",
   "execution_count": 3,
   "metadata": {},
   "outputs": [
    {
     "name": "stdout",
     "output_type": "stream",
     "text": [
      "<class 'pandas.core.frame.DataFrame'>\n",
      "RangeIndex: 344 entries, 0 to 343\n",
      "Data columns (total 22 columns):\n",
      "outlet_no                 344 non-null int64\n",
      "business_type             344 non-null int64\n",
      "city                      344 non-null object\n",
      "state                     344 non-null object\n",
      "zip                       344 non-null int64\n",
      "store_location            344 non-null object\n",
      "avg_age                   344 non-null float64\n",
      "blue_collar               344 non-null float64\n",
      "white_collar              344 non-null float64\n",
      "female                    344 non-null float64\n",
      "male                      344 non-null float64\n",
      "total_household_size      344 non-null float64\n",
      "total_household_income    344 non-null int64\n",
      "time_zone                 344 non-null object\n",
      "latitude                  344 non-null float64\n",
      "longitude                 344 non-null float64\n",
      "location_employee_code    344 non-null object\n",
      "employee_size             344 non-null int64\n",
      "credit_score              344 non-null object\n",
      "credit_score_range        344 non-null object\n",
      "actual_credit_score       344 non-null int64\n",
      "total_sales               344 non-null int64\n",
      "dtypes: float64(8), int64(7), object(7)\n",
      "memory usage: 59.2+ KB\n"
     ]
    }
   ],
   "source": [
    "train.info()"
   ]
  },
  {
   "cell_type": "code",
   "execution_count": 4,
   "metadata": {},
   "outputs": [
    {
     "data": {
      "application/vnd.jupyter.widget-view+json": {
       "model_id": "ba0184bd930e4e1586bd521d84f1b614",
       "version_major": 2,
       "version_minor": 0
      }
     },
     "metadata": {},
     "output_type": "display_data"
    }
   ],
   "source": [
    "train.describe()"
   ]
  },
  {
   "cell_type": "code",
   "execution_count": 5,
   "metadata": {
    "scrolled": true
   },
   "outputs": [
    {
     "data": {
      "application/vnd.jupyter.widget-view+json": {
       "model_id": "ba0c44cd12154944b1e4470a5aaa7545",
       "version_major": 2,
       "version_minor": 0
      }
     },
     "metadata": {},
     "output_type": "display_data"
    }
   ],
   "source": [
    "train.head(5)"
   ]
  },
  {
   "cell_type": "markdown",
   "metadata": {},
   "source": [
    "# Feature Engineering\n"
   ]
  },
  {
   "cell_type": "code",
   "execution_count": 6,
   "metadata": {},
   "outputs": [],
   "source": [
    "df=pd.read_csv('medzip.csv',index_col='Zip')"
   ]
  },
  {
   "cell_type": "code",
   "execution_count": 7,
   "metadata": {},
   "outputs": [],
   "source": [
    "def str2int(str,val):\n",
    "    try:\n",
    "        str=str.split(',')[::-1]\n",
    "        mul={0:1,1:1000}\n",
    "        if len(str)==1:\n",
    "            num=int(str[0])\n",
    "        else:\n",
    "            num=0\n",
    "            for i in range(len(str)):\n",
    "                 num+=int(str[i])*mul.get(i,mul[1]*100**(i-1))\n",
    "        return num\n",
    "    except:\n",
    "        try:\n",
    "            return int(str)\n",
    "        except:\n",
    "            return val"
   ]
  },
  {
   "cell_type": "code",
   "execution_count": 8,
   "metadata": {},
   "outputs": [],
   "source": [
    "izip=df.loc[train['zip']].drop('Zipcode',axis=1)"
   ]
  },
  {
   "cell_type": "code",
   "execution_count": 9,
   "metadata": {},
   "outputs": [],
   "source": [
    "izip.index=np.arange(len(izip))"
   ]
  },
  {
   "cell_type": "code",
   "execution_count": 10,
   "metadata": {},
   "outputs": [],
   "source": [
    "train['Median']=list(map(lambda x:str2int(x,48140.826),izip['Median']))"
   ]
  },
  {
   "cell_type": "code",
   "execution_count": 11,
   "metadata": {},
   "outputs": [],
   "source": [
    "train['Pop']=list(map(lambda x:str2int(x,31519.829),izip['Pop']))"
   ]
  },
  {
   "cell_type": "code",
   "execution_count": 12,
   "metadata": {},
   "outputs": [],
   "source": [
    "del izip"
   ]
  },
  {
   "cell_type": "code",
   "execution_count": 13,
   "metadata": {},
   "outputs": [],
   "source": [
    "izip=df.loc[test['zip']].drop('Zipcode',axis=1)"
   ]
  },
  {
   "cell_type": "code",
   "execution_count": 14,
   "metadata": {},
   "outputs": [],
   "source": [
    "izip.index=np.arange(len(izip))"
   ]
  },
  {
   "cell_type": "code",
   "execution_count": 15,
   "metadata": {},
   "outputs": [],
   "source": [
    "test['Median']=list(map(lambda x:str2int(x,48140.826),izip['Median']))"
   ]
  },
  {
   "cell_type": "code",
   "execution_count": 16,
   "metadata": {},
   "outputs": [],
   "source": [
    "test['Pop']=list(map(lambda x:str2int(x,31519.829),izip['Pop']))"
   ]
  },
  {
   "cell_type": "markdown",
   "metadata": {},
   "source": [
    "# Data Cleaning\n"
   ]
  },
  {
   "cell_type": "code",
   "execution_count": 17,
   "metadata": {},
   "outputs": [],
   "source": [
    "from sklearn.preprocessing import LabelEncoder"
   ]
  },
  {
   "cell_type": "code",
   "execution_count": 18,
   "metadata": {},
   "outputs": [
    {
     "data": {
      "application/vnd.jupyter.widget-view+json": {
       "model_id": "09bffe8a25a44545b4584049f72e1003",
       "version_major": 2,
       "version_minor": 0
      }
     },
     "metadata": {},
     "output_type": "display_data"
    }
   ],
   "source": [
    "encoder=LabelEncoder()\n",
    "train['Encoded_store_location']=encoder.fit_transform(train['store_location'])\n",
    "train['Encoded_city']=encoder.fit_transform(train['city'])\n",
    "train['Encoded_state']=encoder.fit_transform(train['state'])\n",
    "train['Encoded_time_zone']=encoder.fit_transform(train['time_zone'])\n",
    "train['Encoded_location_employee_code']=encoder.fit_transform(train['location_employee_code'])\n",
    "train.head(5)"
   ]
  },
  {
   "cell_type": "code",
   "execution_count": 19,
   "metadata": {},
   "outputs": [
    {
     "data": {
      "application/vnd.jupyter.widget-view+json": {
       "model_id": "c0c658dc3ad44003b13b8424c122cec2",
       "version_major": 2,
       "version_minor": 0
      }
     },
     "metadata": {},
     "output_type": "display_data"
    }
   ],
   "source": [
    "encoder=LabelEncoder()\n",
    "test['Encoded_store_location']=encoder.fit_transform(test['store_location'])\n",
    "test['Encoded_city']=encoder.fit_transform(test['city'])\n",
    "test['Encoded_state']=encoder.fit_transform(test['state'])\n",
    "test['Encoded_time_zone']=encoder.fit_transform(test['time_zone'])\n",
    "test['Encoded_location_employee_code']=encoder.fit_transform(test['location_employee_code'])\n",
    "test.head(5)"
   ]
  },
  {
   "cell_type": "code",
   "execution_count": 20,
   "metadata": {},
   "outputs": [
    {
     "data": {
      "application/vnd.jupyter.widget-view+json": {
       "model_id": "b894c156419947eb8e302c304b3b72b9",
       "version_major": 2,
       "version_minor": 0
      }
     },
     "metadata": {},
     "output_type": "display_data"
    }
   ],
   "source": [
    "train.drop(['store_location','city','state','time_zone','location_employee_code',\n",
    "            'credit_score','credit_score_range','outlet_no','male'],axis=1,inplace=True)\n",
    "train.head()"
   ]
  },
  {
   "cell_type": "code",
   "execution_count": 21,
   "metadata": {},
   "outputs": [
    {
     "data": {
      "application/vnd.jupyter.widget-view+json": {
       "model_id": "53e6431a11b44ae089601b449b071cf3",
       "version_major": 2,
       "version_minor": 0
      }
     },
     "metadata": {},
     "output_type": "display_data"
    }
   ],
   "source": [
    "test.drop(['store_location','city','state','time_zone','location_employee_code',\n",
    "            'credit_score','credit_score_range','male'],axis=1,inplace=True)\n",
    "test.head()"
   ]
  },
  {
   "cell_type": "code",
   "execution_count": 22,
   "metadata": {},
   "outputs": [],
   "source": [
    "train.to_csv('trainX.csv',index=False)\n",
    "test.to_csv('testX.csv',index=False)"
   ]
  }
 ],
 "metadata": {
  "kernelspec": {
   "display_name": "Python 3",
   "language": "python",
   "name": "python3"
  },
  "language_info": {
   "codemirror_mode": {
    "name": "ipython",
    "version": 3
   },
   "file_extension": ".py",
   "mimetype": "text/x-python",
   "name": "python",
   "nbconvert_exporter": "python",
   "pygments_lexer": "ipython3",
   "version": "3.6.2"
  }
 },
 "nbformat": 4,
 "nbformat_minor": 2
}
