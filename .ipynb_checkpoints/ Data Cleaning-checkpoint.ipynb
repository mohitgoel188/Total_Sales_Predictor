{
 "cells": [
  {
   "cell_type": "markdown",
   "metadata": {},
   "source": [
    "# Imports"
   ]
  },
  {
   "cell_type": "code",
   "execution_count": 1,
   "metadata": {},
   "outputs": [],
   "source": [
    "import matplotlib.pyplot as plt\n",
    "from beakerx import *\n",
    "import pandas as pd\n",
    "import numpy as np\n",
    "%matplotlib inline"
   ]
  },
  {
   "cell_type": "markdown",
   "metadata": {},
   "source": [
    "# Data Analysis"
   ]
  },
  {
   "cell_type": "code",
   "execution_count": 2,
   "metadata": {},
   "outputs": [],
   "source": [
    "train=pd.read_csv('train.csv')\n",
    "test=pd.read_csv('test.csv')"
   ]
  },
  {
   "cell_type": "code",
   "execution_count": 3,
   "metadata": {},
   "outputs": [
    {
     "name": "stdout",
     "output_type": "stream",
     "text": [
      "<class 'pandas.core.frame.DataFrame'>\n",
      "RangeIndex: 344 entries, 0 to 343\n",
      "Data columns (total 22 columns):\n",
      "outlet_no                 344 non-null int64\n",
      "business_type             344 non-null int64\n",
      "city                      344 non-null object\n",
      "state                     344 non-null object\n",
      "zip                       344 non-null int64\n",
      "store_location            344 non-null object\n",
      "avg_age                   344 non-null float64\n",
      "blue_collar               344 non-null float64\n",
      "white_collar              344 non-null float64\n",
      "female                    344 non-null float64\n",
      "male                      344 non-null float64\n",
      "total_household_size      344 non-null float64\n",
      "total_household_income    344 non-null int64\n",
      "time_zone                 344 non-null object\n",
      "latitude                  344 non-null float64\n",
      "longitude                 344 non-null float64\n",
      "location_employee_code    344 non-null object\n",
      "employee_size             344 non-null int64\n",
      "credit_score              344 non-null object\n",
      "credit_score_range        344 non-null object\n",
      "actual_credit_score       344 non-null int64\n",
      "total_sales               344 non-null int64\n",
      "dtypes: float64(8), int64(7), object(7)\n",
      "memory usage: 59.2+ KB\n"
     ]
    }
   ],
   "source": [
    "train.info()"
   ]
  },
  {
   "cell_type": "code",
   "execution_count": 4,
   "metadata": {},
   "outputs": [
    {
     "data": {
      "application/vnd.jupyter.widget-view+json": {
       "model_id": "ab451bf5f6244eaea7f3083598a73557",
       "version_major": 2,
       "version_minor": 0
      }
     },
     "metadata": {},
     "output_type": "display_data"
    }
   ],
   "source": [
    "train.describe()"
   ]
  },
  {
   "cell_type": "code",
   "execution_count": 5,
   "metadata": {},
   "outputs": [
    {
     "data": {
      "application/vnd.jupyter.widget-view+json": {
       "model_id": "8422b94b479046d4b4fbc66b8826fbd7",
       "version_major": 2,
       "version_minor": 0
      }
     },
     "metadata": {},
     "output_type": "display_data"
    }
   ],
   "source": [
    "train.head(5)"
   ]
  },
  {
   "cell_type": "markdown",
   "metadata": {},
   "source": [
    "# Data Cleaning\n"
   ]
  },
  {
   "cell_type": "code",
   "execution_count": 6,
   "metadata": {},
   "outputs": [],
   "source": [
    "from sklearn.preprocessing import LabelEncoder"
   ]
  },
  {
   "cell_type": "code",
   "execution_count": 7,
   "metadata": {},
   "outputs": [
    {
     "data": {
      "application/vnd.jupyter.widget-view+json": {
       "model_id": "d6d233bc8be14c36b7c27039bc879901",
       "version_major": 2,
       "version_minor": 0
      }
     },
     "metadata": {},
     "output_type": "display_data"
    }
   ],
   "source": [
    "encoder=LabelEncoder()\n",
    "train['Encoded_store_location']=encoder.fit_transform(train['store_location'])\n",
    "train['Encoded_city']=encoder.fit_transform(train['city'])\n",
    "train['Encoded_state']=encoder.fit_transform(train['state'])\n",
    "train['Encoded_time_zone']=encoder.fit_transform(train['time_zone'])\n",
    "train['Encoded_location_employee_code']=encoder.fit_transform(train['location_employee_code'])\n",
    "train.head(5)"
   ]
  },
  {
   "cell_type": "code",
   "execution_count": 8,
   "metadata": {},
   "outputs": [
    {
     "data": {
      "application/vnd.jupyter.widget-view+json": {
       "model_id": "b95549733ab5453894283a5c12705dad",
       "version_major": 2,
       "version_minor": 0
      }
     },
     "metadata": {},
     "output_type": "display_data"
    }
   ],
   "source": [
    "encoder=LabelEncoder()\n",
    "test['Encoded_store_location']=encoder.fit_transform(test['store_location'])\n",
    "test['Encoded_city']=encoder.fit_transform(test['city'])\n",
    "test['Encoded_state']=encoder.fit_transform(test['state'])\n",
    "test['Encoded_time_zone']=encoder.fit_transform(test['time_zone'])\n",
    "test['Encoded_location_employee_code']=encoder.fit_transform(test['location_employee_code'])\n",
    "test.head(5)"
   ]
  },
  {
   "cell_type": "code",
   "execution_count": 9,
   "metadata": {},
   "outputs": [
    {
     "data": {
      "application/vnd.jupyter.widget-view+json": {
       "model_id": "6a92ee4f31e94caeaedd2fac8143017c",
       "version_major": 2,
       "version_minor": 0
      }
     },
     "metadata": {},
     "output_type": "display_data"
    }
   ],
   "source": [
    "train.drop(['store_location','city','state','time_zone','location_employee_code',\n",
    "            'credit_score','credit_score_range','outlet_no'],axis=1,inplace=True)\n",
    "train.head()"
   ]
  },
  {
   "cell_type": "code",
   "execution_count": 10,
   "metadata": {},
   "outputs": [
    {
     "data": {
      "application/vnd.jupyter.widget-view+json": {
       "model_id": "63b7010687b34b24945c20a420c2970f",
       "version_major": 2,
       "version_minor": 0
      }
     },
     "metadata": {},
     "output_type": "display_data"
    }
   ],
   "source": [
    "test.drop(['store_location','city','state','time_zone','location_employee_code',\n",
    "            'credit_score','credit_score_range'],axis=1,inplace=True)\n",
    "test.head()"
   ]
  },
  {
   "cell_type": "code",
   "execution_count": 11,
   "metadata": {},
   "outputs": [],
   "source": [
    "train.to_csv('trainX.csv',index=False)\n",
    "test.to_csv('testX.csv',index=False)"
   ]
  }
 ],
 "metadata": {
  "kernelspec": {
   "display_name": "Python 3",
   "language": "python",
   "name": "python3"
  },
  "language_info": {
   "codemirror_mode": {
    "name": "ipython",
    "version": 3
   },
   "file_extension": ".py",
   "mimetype": "text/x-python",
   "name": "python",
   "nbconvert_exporter": "python",
   "pygments_lexer": "ipython3",
   "version": "3.6.2"
  }
 },
 "nbformat": 4,
 "nbformat_minor": 2
}
